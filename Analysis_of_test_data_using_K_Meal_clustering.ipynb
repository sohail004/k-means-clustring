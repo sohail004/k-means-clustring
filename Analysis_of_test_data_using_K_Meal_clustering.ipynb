{
  "nbformat": 4,
  "nbformat_minor": 0,
  "metadata": {
    "colab": {
      "name": "Analysis of test data using K-Meal clustering",
      "provenance": [],
      "authorship_tag": "ABX9TyNMFzdpUsItKYnBKUtZInd/",
      "include_colab_link": true
    },
    "kernelspec": {
      "name": "python3",
      "display_name": "Python 3"
    },
    "language_info": {
      "name": "python"
    }
  },
  "cells": [
    {
      "cell_type": "markdown",
      "metadata": {
        "id": "view-in-github",
        "colab_type": "text"
      },
      "source": [
        "<a href=\"https://colab.research.google.com/github/sohail004/k-means-clustring/blob/main/Analysis_of_test_data_using_K_Meal_clustering.ipynb\" target=\"_parent\"><img src=\"https://colab.research.google.com/assets/colab-badge.svg\" alt=\"Open In Colab\"/></a>"
      ]
    },
    {
      "cell_type": "markdown",
      "source": [
        "An illustrattin of  K-means clustering on a sample random data using open-cv library\n",
        "\n",
        "pre-requisits : Numpy,Opencv,Matplotlib"
      ],
      "metadata": {
        "id": "v7bC_5D62KWu"
      }
    },
    {
      "cell_type": "markdown",
      "source": [
        "Lets first visualize test data with Multiple features using matplott-lib tool."
      ],
      "metadata": {
        "id": "qjWv8vlW2yvU"
      }
    },
    {
      "cell_type": "code",
      "execution_count": null,
      "metadata": {
        "id": "6w2vTZ9k1uc5"
      },
      "outputs": [],
      "source": [
        "# importing require tools\n",
        "import numpy as np\n",
        "from matplotlib import pyplot as plt\n",
        "\n",
        "# creating two test data\n",
        "\n",
        "x=np.random.randint(10,35,(25,2))\n",
        "y=np.random.randint(55,70,(25,2))\n",
        "z=np.vstack((x,y))\n",
        "z=z.reshape((50,2))\n",
        "\n",
        "# convert to np.float32\n",
        "z=np.float32(z)\n",
        "\n",
        "plt.xlabel(\"Test data\")\n",
        "plt.ylabel(\"z samples\")\n",
        "\n",
        "plt.hist(z,256,[0,256])\n",
        "plt.show()\n",
        "\n"
      ]
    },
    {
      "cell_type": "markdown",
      "source": [
        "Here 'z' is an array of size 100, and the values ranging from 0 to 255.Now reshape 'z' to a column vector.it will be more useful when more than one feature\n",
        "are presrent.then change the data to np.float32 type.\n",
        "\n"
      ],
      "metadata": {
        "id": "Un9Lv6np4srx"
      }
    },
    {
      "cell_type": "code",
      "source": [
        "# output\n",
        "plt.hist(z,256,[0,256])\n",
        "plt.show()"
      ],
      "metadata": {
        "colab": {
          "base_uri": "https://localhost:8080/",
          "height": 265
        },
        "id": "l9erB0NA5WF_",
        "outputId": "c261e6f3-ce20-4b88-9122-c43b68930060"
      },
      "execution_count": null,
      "outputs": [
        {
          "output_type": "display_data",
          "data": {
            "text/plain": [
              "<Figure size 432x288 with 1 Axes>"
            ],
            "image/png": "[encoded data removed]"
          },
          "metadata": {
            "needs_background": "light"
          }
        }
      ]
    },
    {
      "cell_type": "markdown",
      "source": [
        "Now apply K-mean clustering algorithm to same example as in above test data and see its behaviour.\n",
        "\n",
        "floowing steps involved:\n",
        "\n",
        "1.   set a test data\n",
        "2.   define criteria and apply K-means\n",
        "3.   seprate data\n",
        "4.   plot data\n",
        "\n",
        "\n",
        "\n",
        "\n"
      ],
      "metadata": {
        "id": "G9h9b4ay6BwC"
      }
    },
    {
      "cell_type": "code",
      "source": [
        "!pip install opencv-python==3.4.2.16\n",
        "!pip install opencv-contrib-python==3.4.2.16"
      ],
      "metadata": {
        "colab": {
          "base_uri": "https://localhost:8080/"
        },
        "id": "sNvGs25C_Ykz",
        "outputId": "978e8768-5dfd-46bd-88a4-7f7efbd48e18"
      },
      "execution_count": null,
      "outputs": [
        {
          "output_type": "stream",
          "name": "stdout",
          "text": [
            "Looking in indexes: https://pypi.org/simple, https://us-python.pkg.dev/colab-wheels/public/simple/\n",
            "\u001b[31mERROR: Could not find a version that satisfies the requirement opencv-python==3.4.2.16 (from versions: 3.4.0.14, 3.4.2.17, 3.4.3.18, 3.4.4.19, 3.4.5.20, 3.4.6.27, 3.4.7.28, 3.4.8.29, 3.4.9.31, 3.4.9.33, 3.4.10.35, 3.4.10.37, 3.4.11.39, 3.4.11.41, 3.4.11.43, 3.4.11.45, 3.4.13.47, 3.4.14.51, 3.4.14.53, 3.4.15.55, 3.4.16.57, 3.4.16.59, 3.4.17.61, 3.4.17.63, 4.0.0.21, 4.0.1.23, 4.0.1.24, 4.1.0.25, 4.1.1.26, 4.1.2.30, 4.2.0.32, 4.2.0.34, 4.3.0.36, 4.3.0.38, 4.4.0.40, 4.4.0.42, 4.4.0.44, 4.4.0.46, 4.5.1.48, 4.5.2.52, 4.5.2.54, 4.5.3.56, 4.5.4.58, 4.5.4.60, 4.5.5.62, 4.5.5.64)\u001b[0m\n",
            "\u001b[31mERROR: No matching distribution found for opencv-python==3.4.2.16\u001b[0m\n",
            "Looking in indexes: https://pypi.org/simple, https://us-python.pkg.dev/colab-wheels/public/simple/\n",
            "\u001b[31mERROR: Could not find a version that satisfies the requirement opencv-contrib-python==3.4.2.16 (from versions: 3.4.2.17, 3.4.3.18, 3.4.4.19, 3.4.5.20, 3.4.6.27, 3.4.7.28, 3.4.8.29, 3.4.9.31, 3.4.9.33, 3.4.10.35, 3.4.10.37, 3.4.11.39, 3.4.11.41, 3.4.11.43, 3.4.11.45, 3.4.13.47, 3.4.14.51, 3.4.14.53, 3.4.15.55, 3.4.16.59, 3.4.17.61, 3.4.17.63, 4.0.0.21, 4.0.1.24, 4.1.0.25, 4.1.1.26, 4.1.2.30, 4.2.0.32, 4.2.0.34, 4.3.0.36, 4.3.0.38, 4.4.0.40, 4.4.0.42, 4.4.0.44, 4.4.0.46, 4.5.1.48, 4.5.2.52, 4.5.2.54, 4.5.3.56, 4.5.4.58, 4.5.4.60, 4.5.5.62, 4.5.5.64)\u001b[0m\n",
            "\u001b[31mERROR: No matching distribution found for opencv-contrib-python==3.4.2.16\u001b[0m\n"
          ]
        }
      ]
    },
    {
      "cell_type": "code",
      "source": [
        "import numpy as np\n",
        "import cv2\n",
        "\n",
        "from matplotlib import pyplot as pyplot\n",
        "\n",
        "x=np.random.randint(10,45,(25,2))\n",
        "y=np.random.randint(55,70,(25,2))\n",
        "z=np.vstack((x,y))\n",
        "\n",
        "#convert to np.float32\n",
        "z=np.float32(z)\n",
        "\n",
        "#define criteria and apply K-means().\n",
        "\n",
        "\n",
        "criteria =(cv2.TERM_CRITERIA_EPS + cv2.TERM_CRITERIA_MAX_ITER, 10, 1.0)\n",
        "\n",
        "ret,label,center = cv2.kmeans(z,2,None,criteria,10,cv2.KMEANS_RANDOM_CENTERS)\n",
        "\n",
        "# Now seprate data\n",
        "A = z[label.ravel()==0]\n",
        "B = z[label.ravel()==1]\n",
        "\n",
        "#plot the data\n",
        "\n",
        "plt.scatter(A[:,0],A[:,1])\n",
        "plt.scatter(B[:,0],B[:,1],c = \"r\")\n",
        "plt.scatter(center[:,0],center[:,1],s=80,c=\"y\",marker=\"s\")\n",
        "plt.xlabel(\"Test Data\"),plt.ylabel(\"z samples\")\n",
        "plt.show()"
      ],
      "metadata": {
        "colab": {
          "base_uri": "https://localhost:8080/",
          "height": 279
        },
        "id": "wwr2Puv26omX",
        "outputId": "954a1b2b-4ec7-43c8-f010-bb7e6844f1ef"
      },
      "execution_count": null,
      "outputs": [
        {
          "output_type": "display_data",
          "data": {
            "text/plain": [
              "<Figure size 432x288 with 1 Axes>"
            ],
            "image/png": "[encoded data removed]"
          },
          "metadata": {
            "needs_background": "light"
          }
        }
      ]
    }
  ]
}